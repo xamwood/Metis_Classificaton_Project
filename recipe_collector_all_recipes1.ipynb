{
 "cells": [
  {
   "cell_type": "code",
   "execution_count": 1,
   "id": "e710d0ba",
   "metadata": {},
   "outputs": [],
   "source": [
    "### https://github.com/hhursev/recipe-scrapers\n",
    "from recipe_scrapers import scrape_me\n",
    "import time\n",
    "import pandas as pd\n",
    "import numpy as np\n",
    "from fractions import Fraction\n",
    "import unicodedata\n",
    "import seaborn as sns\n",
    "import matplotlib.pyplot as plt\n",
    "import warnings\n",
    "\n",
    "## give the url as a string, it can be url from any site listed below\n",
    "#scraper = scrape_me('https://www.allrecipes.com/recipe/220943/chef-johns-buttermilk-biscuits/')"
   ]
  },
  {
   "cell_type": "code",
   "execution_count": 2,
   "id": "8ab7d3cd",
   "metadata": {},
   "outputs": [],
   "source": [
    "#Links I get from a web app called \"web scrapper\" and All Recipe's and Food Networks Websites\n",
    "\n",
    "all_recipes_scone_links = pd.read_csv('all_recipes_scone_links.csv')\n",
    "all_recipes_biscuit_links = pd.read_csv('all_recipes_biscuit_links.csv')\n",
    "food_network_scone_links = pd.read_csv('food_network_scones.csv')\n",
    "food_network_biscuit_links = pd.read_csv('food_network_biscuits.csv')"
   ]
  },
  {
   "cell_type": "code",
   "execution_count": 3,
   "id": "d799438d",
   "metadata": {},
   "outputs": [],
   "source": [
    "#### Creating all recipes scone recipe array\n",
    "recipes = []\n",
    "for index, row in all_recipes_scone_links.iterrows():\n",
    "    x = scrape_me(all_recipes_scone_links.iloc[index][0])\n",
    "    row_data = ['Scones',\n",
    "                x.title(),\n",
    "                x.category(),\n",
    "                x.canonical_url(),\n",
    "                x.site_name(),\n",
    "                x.ingredients(),\n",
    "                x.instructions(),\n",
    "                x.nutrients(),\n",
    "                x.prep_time(),\n",
    "                x.cook_time(),\n",
    "                x.total_time(),\n",
    "                x.yields()]\n",
    "    recipes.append(row_data)\n",
    "    time.sleep(.2)"
   ]
  },
  {
   "cell_type": "code",
   "execution_count": 4,
   "id": "27ca9c6d",
   "metadata": {},
   "outputs": [],
   "source": [
    "#### Creating food network scone recipe array\n",
    "for index, row in food_network_scone_links.iterrows():\n",
    "    x = scrape_me(food_network_scone_links.iloc[index][0])\n",
    "    try:\n",
    "        a = x.total_time()\n",
    "    except: \n",
    "        a = 0\n",
    "    \n",
    "    \n",
    "    row_data = ['Scones',\n",
    "                x.title(),\n",
    "                'Scones',\n",
    "                x.canonical_url(),\n",
    "                x.site_name(),\n",
    "                x.ingredients(),\n",
    "                x.instructions(),\n",
    "                x.nutrients(),\n",
    "                0,\n",
    "                0,\n",
    "                a,\n",
    "                x.yields()]\n",
    "    recipes.append(row_data)\n",
    "    time.sleep(.2)"
   ]
  },
  {
   "cell_type": "code",
   "execution_count": 5,
   "id": "04467e7c",
   "metadata": {},
   "outputs": [],
   "source": [
    "#### Creating all recipes Biscuit Recipe Array\n",
    "for index, row in all_recipes_biscuit_links.iterrows():\n",
    "    x = scrape_me(all_recipes_biscuit_links.iloc[index][0])\n",
    "    row_data = ['Biscuit',\n",
    "                x.title(),\n",
    "                x.category(),\n",
    "                x.canonical_url(),\n",
    "                x.site_name(),\n",
    "                x.ingredients(),\n",
    "                x.instructions(),\n",
    "                x.nutrients(),\n",
    "                x.prep_time(),\n",
    "                x.cook_time(),\n",
    "                x.total_time(),\n",
    "                x.yields()]\n",
    "    recipes.append(row_data)\n",
    "    time.sleep(.2)"
   ]
  },
  {
   "cell_type": "code",
   "execution_count": null,
   "id": "285aa5ee",
   "metadata": {},
   "outputs": [],
   "source": [
    "#### Creating food network Biscuit Recipe Array\n",
    "for index, row in food_network_biscuit_links.iterrows():\n",
    "    x = scrape_me(food_network_biscuit_links.iloc[index][0])\n",
    "    try:\n",
    "        a = x.total_time()\n",
    "    except: \n",
    "        a = 0\n",
    "    \n",
    "    row_data = ['Biscuit',\n",
    "                x.title(),\n",
    "                'Biscuit',\n",
    "                x.canonical_url(),\n",
    "                x.site_name(),\n",
    "                x.ingredients(),\n",
    "                x.instructions(),\n",
    "                x.nutrients(),\n",
    "                0,\n",
    "                0,\n",
    "                a,\n",
    "                x.yields()]\n",
    "    recipes.append(row_data)\n",
    "    time.sleep(.2)"
   ]
  },
  {
   "cell_type": "code",
   "execution_count": null,
   "id": "a4525041",
   "metadata": {},
   "outputs": [],
   "source": [
    "import pickle\n",
    "with open('recipes.pkl', 'wb') as f:\n",
    "    pickle.dump(recipes, f)"
   ]
  },
  {
   "cell_type": "code",
   "execution_count": null,
   "id": "de6413ca",
   "metadata": {},
   "outputs": [],
   "source": [
    "import pickle\n",
    "with open('recipes.pkl','rb')as f:\n",
    "    recipes = pickle.load(f)\n"
   ]
  },
  {
   "cell_type": "code",
   "execution_count": null,
   "id": "ac62d1ea",
   "metadata": {},
   "outputs": [],
   "source": [
    "#### Creating DataFrame\n",
    "column_names = ['category',\n",
    "                'title',\n",
    "                'category_website',\n",
    "                'url',\n",
    "                'site_name',\n",
    "                'ingredients',\n",
    "                'instructions',\n",
    "                'nutrients',\n",
    "                'prep_time',\n",
    "                'cook_time',\n",
    "                'total_time',\n",
    "                'yields']\n",
    "recipes_df = pd.DataFrame(recipes, columns = column_names)"
   ]
  },
  {
   "cell_type": "markdown",
   "id": "ceb396c7",
   "metadata": {},
   "source": [
    "### Cleaning Data"
   ]
  },
  {
   "cell_type": "code",
   "execution_count": null,
   "id": "d70da4e2",
   "metadata": {},
   "outputs": [],
   "source": [
    "british_index = (recipes_df.loc[recipes_df['url']=='https://www.foodnetwork.com/recipes/grapefruit-and-pepper-meringue-tartlets-2109834']).index[0]\n",
    "recipes_df = recipes_df.drop(index = british_index)\n",
    "crumble_index = (recipes_df.loc[recipes_df['url']=='https://www.foodnetwork.com/recipes/biscuit-crumble-with-chocolate-and-raspberries-3415125']).index[0]\n",
    "recipes_df = recipes_df.drop(index = crumble_index)\n",
    "quail_index = (recipes_df.loc[recipes_df['url']=='https://www.foodnetwork.com/recipes/eggs-benedict-quail-eggs-spiced-biscuits-lemongrass-crab-fennel-salad-recipe-1918473']).index[0]\n",
    "recipes_df = recipes_df.drop(index = quail_index)"
   ]
  },
  {
   "cell_type": "markdown",
   "id": "8bdcee61",
   "metadata": {},
   "source": [
    "I should come back and rewrite this after knowing some of the possible pitfalls in the foodnetwork dataset"
   ]
  },
  {
   "cell_type": "code",
   "execution_count": null,
   "id": "cf4463b2",
   "metadata": {},
   "outputs": [],
   "source": [
    "# Functions to clean up dataframe\n",
    "def baking_temp(string):\n",
    "    x = string.rfind(' degrees F')\n",
    "    if x == -1:\n",
    "        x = string.rfind(' degree F')\n",
    "        if x==-1:\n",
    "            x = string.rfind(' degree')\n",
    "            if x==-1:\n",
    "                return(0)\n",
    "            else:\n",
    "                return(int(string[x-3:x]))\n",
    "        else:\n",
    "            return(int(string[x-3:x]))\n",
    "    else:\n",
    "        return(int(string[x-3:x]))\n",
    "    \n",
    "def get_cals(dictionary):\n",
    "    try:\n",
    "        a = float(dictionary['calories'].strip(' calories').strip('cals'))\n",
    "    except: \n",
    "        a = -1\n",
    "    return(a)\n",
    "\n",
    "def get_carbs(dictionary):\n",
    "    try:\n",
    "        a = float(dictionary['carbohydrateContent'].strip('grams').strip('g'))\n",
    "    except: \n",
    "        a = -1\n",
    "    return(a)\n",
    "\n",
    "def get_chol(dictionary):\n",
    "    \n",
    "    if 'cholesterolContent' not in list(dictionary.keys()):\n",
    "        return(-1)\n",
    "    else:\n",
    "        return(float(dictionary['cholesterolContent'].strip(' mg').strip('milligrams')))\n",
    "\n",
    "def get_fat(dictionary):\n",
    "    try:\n",
    "        a = float(dictionary['fatContent'].strip(' grams'))\n",
    "    except: \n",
    "        a = -1\n",
    "    return(a)\n",
    "\n",
    "def get_fiber(dictionary):\n",
    "    if 'fiberContent' not in list(dictionary.keys()):\n",
    "        return(-1)\n",
    "    else:\n",
    "        return(float(dictionary['fiberContent'].strip(' grams')))\n",
    "\n",
    "def get_protein(dictionary):\n",
    "    try:\n",
    "        a = float(dictionary['proteinContent'].strip(' grams'))\n",
    "    except: \n",
    "        a = -1\n",
    "    return(a)\n",
    "\n",
    "def get_satfat(dictionary):\n",
    "    try:\n",
    "        a = float(dictionary['saturatedFatContent'].strip(' grams'))\n",
    "    except: \n",
    "        a = -1\n",
    "    return(a)\n",
    "\n",
    "def get_sodium(dictionary):\n",
    "    try:\n",
    "        a = float(dictionary['sodiumContent'].strip('milligrams').strip(' mg'))\n",
    "    except: \n",
    "        a = -1\n",
    "    return(a)\n",
    "\n",
    "def get_sugar(dictionary):\n",
    "    if 'sugarContent' not in list(dictionary.keys()):\n",
    "        return(-1)\n",
    "    else:\n",
    "        return(float(dictionary['sugarContent'].strip(' grams')))\n",
    "    \n",
    "def get_servings(string):\n",
    "    return(int(string.split(' ',1)[0]))\n",
    "\n",
    "# trying to find how thick to roll 0 means the function didn't work\n",
    "def thickness(string):\n",
    "    x = string.find(' thick')\n",
    "    if string[x-1] == 'h':\n",
    "        return(float(Fraction(string[x-8:x].strip(' inch').strip('-'))))\n",
    "    else:\n",
    "        return(0)\n",
    "    \n",
    "def num_ingredients(listy):\n",
    "    return(len(listy))\n",
    "\n",
    "def num_steps(string):\n",
    "    return(string.count('\\n')+1)\n",
    "\n",
    "def ingredient_amt(ingredient_list, item):\n",
    "    amt = 0\n",
    "    for x in ingredient_list:\n",
    "        if item in x and 'stick' in x and 'sticky' not in x:\n",
    "            nums = x.split(' stick')[0]\n",
    "            if 'to' in nums:\n",
    "                nums = nums.split('to ')[1]\n",
    "            if 'plus' in nums:\n",
    "                nums = nums.split('plus ')[1]\n",
    "            if '(' in nums:\n",
    "                nums = nums.split('(')[1]\n",
    "            if 'heaping' in nums:\n",
    "                nums = nums.split('heaping')[0]\n",
    "            if ' ' in nums:\n",
    "                amt = (float(nums.split(' ')[0])+unicodedata.numeric(nums.split(' ')[1]))/2+amt\n",
    "            elif nums.isdigit() == True:\n",
    "                amt = (float(nums))/2 + amt\n",
    "            elif len(nums) == 1:\n",
    "                amt = (unicodedata.numeric(nums))/2 + amt\n",
    "        \n",
    "        if item in x and 'quart' in x:\n",
    "            nums = x.split(' quart')[0]\n",
    "            if 'to' in nums:\n",
    "                nums = nums.split('to ')[1]\n",
    "            if 'plus' in nums:\n",
    "                nums = nums.split('plus ')[1]\n",
    "            if '(' in nums:\n",
    "                nums = nums.split('(')[1]\n",
    "            if ' ' in nums:\n",
    "                ratio = 4\n",
    "                amt = float(nums.split(' ')[0])*ratio+ amt \n",
    "                if '/' in nums.split(' ')[1]:\n",
    "                    amt = (float((nums.split(' ')[1]).split('/')[0])/float((nums.split(' ')[1]).split('/')[1]))*ratio + amt\n",
    "                else:\n",
    "                    amt = unicodedata.numeric(nums.split(' ')[1])*ratio+amt\n",
    "            elif nums.isdigit() == True:\n",
    "                amt = (float(nums))*4 + amt\n",
    "            elif len(nums) == 1:\n",
    "                amt = (unicodedata.numeric(nums))*4 + amt\n",
    "        \n",
    "        if item in x and 'cup' in x:\n",
    "            nums = x.split(' cup')[0].split('-cup')[0]\n",
    "            if 'to' in nums:\n",
    "                nums = nums.split('to ')[1]\n",
    "            if 'plus' in nums:\n",
    "                nums = nums.split('plus ')[1]\n",
    "            if '(' in nums:\n",
    "                nums = nums.split('(')[1]\n",
    "            if 'about' in nums:\n",
    "                nums = nums.split('about ')[1]\n",
    "            if 'About' in nums:\n",
    "                nums = nums.split('About ')[1]\n",
    "            if 'heaping' in nums:\n",
    "                nums = nums.split(' heaping')[0]\n",
    "            if 'level' in nums:\n",
    "                nums = nums.split(' level')[0]\n",
    "            if 'scant' in nums:\n",
    "                nums = nums.split(' scant')[0]\n",
    "            if ' ' in nums:  \n",
    "                amt = float(nums.split(' ')[0])+ amt \n",
    "                if '/' in nums.split(' ')[1]:\n",
    "                    amt = (float((nums.split(' ')[1]).split('/')[0])/float((nums.split(' ')[1]).split('/')[1])) + amt\n",
    "                else:\n",
    "                    amt = unicodedata.numeric(nums.split(' ')[1])+amt\n",
    "            elif nums.isdigit() == True:\n",
    "                amt = (float(nums)) + amt\n",
    "            elif len(nums) == 1:\n",
    "                amt = (unicodedata.numeric(nums)) + amt\n",
    "                \n",
    "        if item in x and 'tablespoon' in x:\n",
    "            nums = x.split(' tablespoon')[0]\n",
    "            if 'to' in nums:\n",
    "                nums = nums.split('to ')[1]\n",
    "            if 'plus' in nums:\n",
    "                nums = nums.split('plus ')[1]\n",
    "            if '(' in nums:\n",
    "                nums = nums.split('(')[1]\n",
    "            if 'with' in nums:\n",
    "                nums = nums.split('with ')[1]\n",
    "            if 'heaping' in nums:\n",
    "                nums = nums.split(' heaping')[0]\n",
    "            if 'level' in nums:\n",
    "                nums = nums.split(' level')[0]\n",
    "            if 'scant' in nums:\n",
    "                nums = nums.split(' scant')[0]\n",
    "            if 'more' in nums:\n",
    "                nums = nums.split(' more')[0]\n",
    "            if ' ' in nums:\n",
    "                ratio = (1/16)\n",
    "                amt = float(nums.split(' ')[0])*ratio+ amt \n",
    "                if '/' in nums.split(' ')[1]:\n",
    "                    amt = (float((nums.split(' ')[1]).split('/')[0])/float((nums.split(' ')[1]).split('/')[1]))*ratio + amt\n",
    "                else:\n",
    "                    amt = unicodedata.numeric(nums.split(' ')[1])*ratio+amt\n",
    "            elif nums.isdigit() == True:\n",
    "                amt = (float(nums)/16) + amt\n",
    "            else:\n",
    "                ratio = (1/16)\n",
    "                if '/' in nums:\n",
    "                    amt = (float((nums).split('/')[0])/float((nums).split('/')[1]))*ratio + amt\n",
    "                else:\n",
    "                    amt = (unicodedata.numeric(nums)*ratio) + amt\n",
    "                \n",
    "        if item in x and 'teaspoon' in x:\n",
    "            nums = x.split(' teaspoon')[0]\n",
    "            if 'to' in nums:\n",
    "                nums = nums.split('to ')[1]\n",
    "            if 'plus' in nums:\n",
    "                nums = nums.split('plus ')[1]\n",
    "            if '(' in nums:\n",
    "                nums = nums.split('(')[1]\n",
    "            if 'with' in nums:\n",
    "                nums = nums.split('with ')[1]\n",
    "            if 'and' in nums:\n",
    "                nums = nums.split('and ')[1]\n",
    "            if 'heaping' in nums:\n",
    "                nums = nums.split(' heaping')[0]\n",
    "            if 'level' in nums:\n",
    "                nums = nums.split(' level')[0]\n",
    "            if 'scant' in nums:\n",
    "                nums = nums.split(' scant')[0]\n",
    "            \n",
    "            if ' ' in nums:\n",
    "                ratio = (1/48)\n",
    "                amt = float(nums.split(' ')[0])*ratio+ amt \n",
    "                if '/' in nums.split(' ')[1]:\n",
    "                    amt = (float((nums.split(' ')[1]).split('/')[0])/float((nums.split(' ')[1]).split('/')[1]))*ratio + amt\n",
    "                else:\n",
    "                    amt = unicodedata.numeric(nums.split(' ')[1])*ratio+amt\n",
    "                \n",
    "            elif nums.isdigit() == True:\n",
    "                amt = (float(nums)/48) + amt\n",
    "            else:\n",
    "                ratio = (1/48)\n",
    "                if '/' in nums:\n",
    "                    amt = (float((nums).split('/')[0])/float((nums).split('/')[1]))*ratio + amt\n",
    "                else:\n",
    "                    amt = (unicodedata.numeric(nums)/48) + amt\n",
    "    return(amt)\n",
    "\n",
    "\n",
    "def flour(ingredient_list):\n",
    "    return(ingredient_amt(ingredient_list, 'flour'))\n",
    "\n",
    "def sugar(ingredient_list):\n",
    "    return(ingredient_amt(ingredient_list, 'sugar'))\n",
    "\n",
    "def bakingsoda(ingredient_list):\n",
    "    return(ingredient_amt(ingredient_list, 'baking soda'))\n",
    "\n",
    "def bakingpowder(ingredient_list):\n",
    "    return(ingredient_amt(ingredient_list, 'baking powder'))\n",
    "\n",
    "#def salt(ingredient_list):\n",
    "    return(ingredient_amt(ingredient_list, 'salt'))\n",
    "\n",
    "def milk(ingredient_list):\n",
    "    return(ingredient_amt(ingredient_list, ' milk'))\n",
    "\n",
    "def buttermilk(ingredient_list):\n",
    "    return(ingredient_amt(ingredient_list, 'buttermilk'))\n",
    "\n",
    "def water(ingredient_list):\n",
    "    return(ingredient_amt(ingredient_list, 'water'))\n",
    "\n",
    "def sourcream(ingredient_list):\n",
    "    return(ingredient_amt(ingredient_list, 'sour cream'))\n",
    "\n",
    "def margarine(ingredient_list):\n",
    "    return(ingredient_amt(ingredient_list, 'margarine'))\n",
    "\n",
    "def shortening(ingredient_list):\n",
    "    return(ingredient_amt(ingredient_list, 'shortening'))\n",
    "\n",
    "def butter(ingredient_list):\n",
    "    item = 'butter'\n",
    "    amt = 0\n",
    "    for x in ingredient_list:\n",
    "        if item in x and 'stick' in x and 'sticky' not in x and 'milk' not in x and 'cup' not in x:\n",
    "            nums = x.split(' stick')[0]\n",
    "#            if 'to' in nums:\n",
    "#                nums = nums.split('to ')[1]\n",
    "            if 'plus' in nums:\n",
    "                nums = nums.split('plus ')[1]\n",
    "            if '(' in nums:\n",
    "                nums = nums.split('(')[1]\n",
    "            if 'heaping' in nums:\n",
    "                nums = nums.split(' heaping')[0]\n",
    "            if 'cold' in nums:\n",
    "                nums = nums.split(' cold')[0]\n",
    "            if ' ' in nums:\n",
    "                ratio = (1/2)\n",
    "                amt = float(nums.split(' ')[0])*ratio+ amt \n",
    "                if '/' in nums.split(' ')[1]:\n",
    "                    amt = (float((nums.split(' ')[1]).split('/')[0])/float((nums.split(' ')[1]).split('/')[1]))*ratio + amt\n",
    "                else:\n",
    "                    amt = unicodedata.numeric(nums.split(' ')[1])*ratio+amt\n",
    "            elif nums.isdigit() == True:\n",
    "                ratio = (1/2)\n",
    "                amt = (float(nums)*ratio) + amt\n",
    "            else:\n",
    "                ratio = (1/2)\n",
    "                if '/' in nums:\n",
    "                    amt = (float((nums).split('/')[0])/float((nums).split('/')[1]))*ratio + amt\n",
    "                else:\n",
    "                    amt = (unicodedata.numeric(nums)*ratio) + amt\n",
    "        \n",
    "        if item in x and 'quart' in x and 'milk' not in x:\n",
    "            nums = x.split(' quart')[0]\n",
    "            if 'to' in nums:\n",
    "                nums = nums.split('to ')[1]\n",
    "            if 'plus' in nums:\n",
    "                nums = nums.split('plus ')[1]\n",
    "            if '(' in nums:\n",
    "                nums = nums.split('(')[1]\n",
    "            if ' ' in nums:\n",
    "                ratio = 4\n",
    "                amt = float(nums.split(' ')[0])*ratio+ amt \n",
    "                if '/' in nums.split(' ')[1]:\n",
    "                    amt = (float((nums.split(' ')[1]).split('/')[0])/float((nums.split(' ')[1]).split('/')[1]))*ratio + amt\n",
    "                else:\n",
    "                    amt = unicodedata.numeric(nums.split(' ')[1])*ratio+amt\n",
    "            elif nums.isdigit() == True:\n",
    "                amt = (float(nums))*4 + amt\n",
    "            elif len(nums) == 1:\n",
    "                amt = (unicodedata.numeric(nums))*4 + amt\n",
    "        \n",
    "        if item in x and 'cup' in x and 'milk' not in x:\n",
    "            nums = x.split(' cup')[0].split('-cup')[0]\n",
    "            if 'to' in nums:\n",
    "                nums = nums.split('to ')[1]\n",
    "            if 'plus' in nums:\n",
    "                nums = nums.split('plus ')[1]\n",
    "            if '(' in nums:\n",
    "                nums = nums.split('(')[1]\n",
    "            if 'about' in nums:\n",
    "                nums = nums.split('about ')[1]\n",
    "            if 'About' in nums:\n",
    "                nums = nums.split('About ')[1]\n",
    "            if 'heaping' in nums:\n",
    "                nums = nums.split(' heaping')[0]\n",
    "            if 'level' in nums:\n",
    "                nums = nums.split(' level')[0]\n",
    "            if 'scant' in nums:\n",
    "                nums = nums.split(' scant')[0]\n",
    "            if ' ' in nums:  \n",
    "                amt = float(nums.split(' ')[0])+ amt \n",
    "                if '/' in nums.split(' ')[1]:\n",
    "                    amt = (float((nums.split(' ')[1]).split('/')[0])/float((nums.split(' ')[1]).split('/')[1])) + amt\n",
    "                else:\n",
    "                    amt = unicodedata.numeric(nums.split(' ')[1])+amt\n",
    "            elif nums.isdigit() == True:\n",
    "                amt = (float(nums)) + amt\n",
    "            elif len(nums) == 1:\n",
    "                amt = (unicodedata.numeric(nums)) + amt\n",
    "                \n",
    "        if item in x and 'tablespoon' in x and 'milk' not in x and 'stick' not in x:\n",
    "            nums = x.split(' tablespoon')[0]\n",
    "            if 'to' in nums:\n",
    "                nums = nums.split('to ')[1]\n",
    "            if 'plus' in nums:\n",
    "                nums = nums.split('plus ')[1]\n",
    "            if '(' in nums:\n",
    "                nums = nums.split('(')[1]\n",
    "            if 'with' in nums:\n",
    "                nums = nums.split('with ')[1]\n",
    "            if 'heaping' in nums:\n",
    "                nums = nums.split(' heaping')[0]\n",
    "            if 'level' in nums:\n",
    "                nums = nums.split(' level')[0]\n",
    "            if 'scant' in nums:\n",
    "                nums = nums.split(' scant')[0]\n",
    "            if 'more' in nums:\n",
    "                nums = nums.split(' more')[0]\n",
    "            if ' ' in nums:\n",
    "                ratio = (1/16)\n",
    "                amt = float(nums.split(' ')[0])*ratio+ amt \n",
    "                if '/' in nums.split(' ')[1]:\n",
    "                    amt = (float((nums.split(' ')[1]).split('/')[0])/float((nums.split(' ')[1]).split('/')[1]))*ratio + amt\n",
    "                else:\n",
    "                    amt = unicodedata.numeric(nums.split(' ')[1])*ratio+amt\n",
    "            elif nums.isdigit() == True:\n",
    "                amt = (float(nums)/16) + amt\n",
    "            else:\n",
    "                ratio = (1/16)\n",
    "                if '/' in nums:\n",
    "                    amt = (float((nums).split('/')[0])/float((nums).split('/')[1]))*ratio + amt\n",
    "                else:\n",
    "                    amt = (unicodedata.numeric(nums)*ratio) + amt\n",
    "                \n",
    "        if item in x and 'teaspoon' in x and 'milk' not in x:\n",
    "            nums = x.split(' teaspoon')[0]\n",
    "            if 'to' in nums:\n",
    "                nums = nums.split('to ')[1]\n",
    "            if 'plus' in nums:\n",
    "                nums = nums.split('plus ')[1]\n",
    "            if '(' in nums:\n",
    "                nums = nums.split('(')[1]\n",
    "            if 'with' in nums:\n",
    "                nums = nums.split('with ')[1]\n",
    "            if 'and' in nums:\n",
    "                nums = nums.split('and ')[1]\n",
    "            if 'heaping' in nums:\n",
    "                nums = nums.split(' heaping')[0]\n",
    "            if 'level' in nums:\n",
    "                nums = nums.split(' level')[0]\n",
    "            if 'scant' in nums:\n",
    "                nums = nums.split(' scant')[0]\n",
    "            \n",
    "            if ' ' in nums:\n",
    "                ratio = (1/48)\n",
    "                amt = float(nums.split(' ')[0])*ratio+ amt \n",
    "                if '/' in nums.split(' ')[1]:\n",
    "                    amt = (float((nums.split(' ')[1]).split('/')[0])/float((nums.split(' ')[1]).split('/')[1]))*ratio + amt\n",
    "                else:\n",
    "                    amt = unicodedata.numeric(nums.split(' ')[1])*ratio+amt\n",
    "                \n",
    "            elif nums.isdigit() == True:\n",
    "                amt = (float(nums)/48) + amt\n",
    "            else:\n",
    "                ratio = (1/48)\n",
    "                if '/' in nums:\n",
    "                    amt = (float((nums).split('/')[0])/float((nums).split('/')[1]))*ratio + amt\n",
    "                else:\n",
    "                    amt = (unicodedata.numeric(nums)/48) + amt\n",
    "    return(amt)\n",
    "\n",
    "def cream(ingredient_list):\n",
    "    item = 'cream'\n",
    "    amt = 0\n",
    "    for x in ingredient_list:\n",
    "        if item in x and 'stick' in x and 'sticky' not in x and 'sour' not in x:\n",
    "            nums = x.split(' stick')[0]\n",
    "            if 'to' in nums:\n",
    "                nums = nums.split('to ')[1]\n",
    "            if 'plus' in nums:\n",
    "                nums = nums.split('plus ')[1]\n",
    "            if '(' in nums:\n",
    "                nums = nums.split('(')[1]\n",
    "            if 'heaping' in nums:\n",
    "                nums = nums.split('heaping')[0]\n",
    "            if ' ' in nums:\n",
    "                amt = (float(nums.split(' ')[0])+unicodedata.numeric(nums.split(' ')[1]))/2+amt\n",
    "            elif nums.isdigit() == True:\n",
    "                amt = (float(nums))/2 + amt\n",
    "            elif len(nums) == 1:\n",
    "                amt = (unicodedata.numeric(nums))/2 + amt\n",
    "        \n",
    "        if item in x and 'quart' in x and 'sour' not in x:\n",
    "            nums = x.split(' quart')[0]\n",
    "            if 'to' in nums:\n",
    "                nums = nums.split('to ')[1]\n",
    "            if 'plus' in nums:\n",
    "                nums = nums.split('plus ')[1]\n",
    "            if '(' in nums:\n",
    "                nums = nums.split('(')[1]\n",
    "            if ' ' in nums:\n",
    "                ratio = 4\n",
    "                amt = float(nums.split(' ')[0])*ratio+ amt \n",
    "                if '/' in nums.split(' ')[1]:\n",
    "                    amt = (float((nums.split(' ')[1]).split('/')[0])/float((nums.split(' ')[1]).split('/')[1]))*ratio + amt\n",
    "                else:\n",
    "                    amt = unicodedata.numeric(nums.split(' ')[1])*ratio+amt\n",
    "            elif nums.isdigit() == True:\n",
    "                amt = (float(nums))*4 + amt\n",
    "            elif len(nums) == 1:\n",
    "                amt = (unicodedata.numeric(nums))*4 + amt\n",
    "        \n",
    "        if item in x and 'cup' in x and 'sour' not in x:\n",
    "            nums = x.split(' cup')[0].split('-cup')[0]\n",
    "            if 'to' in nums:\n",
    "                nums = nums.split('to ')[1]\n",
    "            if 'plus' in nums:\n",
    "                nums = nums.split('plus ')[1]\n",
    "            if '(' in nums:\n",
    "                nums = nums.split('(')[1]\n",
    "            if 'about' in nums:\n",
    "                nums = nums.split('about ')[1]\n",
    "            if 'About' in nums:\n",
    "                nums = nums.split('About ')[1]\n",
    "            if 'heaping' in nums:\n",
    "                nums = nums.split(' heaping')[0]\n",
    "            if 'level' in nums:\n",
    "                nums = nums.split(' level')[0]\n",
    "            if 'scant' in nums:\n",
    "                nums = nums.split(' scant')[0]\n",
    "            if ' ' in nums:  \n",
    "                amt = float(nums.split(' ')[0])+ amt \n",
    "                if '/' in nums.split(' ')[1]:\n",
    "                    amt = (float((nums.split(' ')[1]).split('/')[0])/float((nums.split(' ')[1]).split('/')[1])) + amt\n",
    "                else:\n",
    "                    amt = unicodedata.numeric(nums.split(' ')[1])+amt\n",
    "            elif nums.isdigit() == True:\n",
    "                amt = (float(nums)) + amt\n",
    "            elif len(nums) == 1:\n",
    "                amt = (unicodedata.numeric(nums)) + amt\n",
    "                \n",
    "        if item in x and 'tablespoon' in x and 'sour' not in x:\n",
    "            nums = x.split(' tablespoon')[0]\n",
    "            if 'to' in nums:\n",
    "                nums = nums.split('to ')[1]\n",
    "            if 'plus' in nums:\n",
    "                nums = nums.split('plus ')[1]\n",
    "            if '(' in nums:\n",
    "                nums = nums.split('(')[1]\n",
    "            if 'with' in nums:\n",
    "                nums = nums.split('with ')[1]\n",
    "            if 'heaping' in nums:\n",
    "                nums = nums.split(' heaping')[0]\n",
    "            if 'level' in nums:\n",
    "                nums = nums.split(' level')[0]\n",
    "            if 'scant' in nums:\n",
    "                nums = nums.split(' scant')[0]\n",
    "            if ' ' in nums:\n",
    "                ratio = (1/16)\n",
    "                amt = float(nums.split(' ')[0])*ratio+ amt \n",
    "                if '/' in nums.split(' ')[1]:\n",
    "                    amt = (float((nums.split(' ')[1]).split('/')[0])/float((nums.split(' ')[1]).split('/')[1]))*ratio + amt\n",
    "                else:\n",
    "                    amt = unicodedata.numeric(nums.split(' ')[1])*ratio+amt\n",
    "            elif nums.isdigit() == True:\n",
    "                amt = (float(nums)/16) + amt\n",
    "            else:\n",
    "                ratio = (1/16)\n",
    "                if '/' in nums:\n",
    "                    amt = (float((nums).split('/')[0])/float((nums).split('/')[1]))*ratio + amt\n",
    "                else:\n",
    "                    amt = (unicodedata.numeric(nums)*ratio) + amt\n",
    "                \n",
    "        if item in x and 'teaspoon' in x and 'sour' not in x:\n",
    "            nums = x.split(' teaspoon')[0]\n",
    "            if 'to' in nums:\n",
    "                nums = nums.split('to ')[1]\n",
    "            if 'plus' in nums:\n",
    "                nums = nums.split('plus ')[1]\n",
    "            if '(' in nums:\n",
    "                nums = nums.split('(')[1]\n",
    "            if 'and' in nums:\n",
    "                nums = nums.split('and ')[1]\n",
    "            if 'heaping' in nums:\n",
    "                nums = nums.split(' heaping')[0]\n",
    "            if 'level' in nums:\n",
    "                nums = nums.split(' level')[0]\n",
    "            if 'scant' in nums:\n",
    "                nums = nums.split(' scant')[0]\n",
    "            if ' ' in nums:\n",
    "                ratio = (1/48)\n",
    "                amt = float(nums.split(' ')[0])*ratio+ amt \n",
    "                if '/' in nums.split(' ')[1]:\n",
    "                    amt = (float((nums.split(' ')[1]).split('/')[0])/float((nums.split(' ')[1]).split('/')[1]))*ratio + amt\n",
    "                else:\n",
    "                    amt = unicodedata.numeric(nums.split(' ')[1])*ratio+amt\n",
    "                \n",
    "            elif nums.isdigit() == True:\n",
    "                amt = (float(nums)/48) + amt\n",
    "            else:\n",
    "                ratio = (1/48)\n",
    "                if '/' in nums:\n",
    "                    amt = (float((nums).split('/')[0])/float((nums).split('/')[1]))*ratio + amt\n",
    "                else:\n",
    "                    amt = (unicodedata.numeric(nums)/48) + amt\n",
    "    return(amt)\n",
    "\n",
    "\n",
    "def salt(ingredient_list):\n",
    "    item = 'salt'\n",
    "    amt = 0\n",
    "    for x in ingredient_list:\n",
    "        if item in x and 'stick' in x and 'sticky' not in x and 'butter' not in x:\n",
    "            nums = x.split(' stick')[0]\n",
    "            if 'to' in nums:\n",
    "                nums = nums.split('to ')[1]\n",
    "            if 'plus' in nums:\n",
    "                nums = nums.split('plus ')[1]\n",
    "            if '(' in nums:\n",
    "                nums = nums.split('(')[1]\n",
    "            if 'heaping' in nums:\n",
    "                nums = nums.split('heaping')[0]\n",
    "            if ' ' in nums:\n",
    "                ratio = (1/2)\n",
    "                amt = float(nums.split(' ')[0])*ratio+ amt \n",
    "                if '/' in nums.split(' ')[1]:\n",
    "                    amt = (float((nums.split(' ')[1]).split('/')[0])/float((nums.split(' ')[1]).split('/')[1]))*ratio + amt\n",
    "                else:\n",
    "                    amt = unicodedata.numeric(nums.split(' ')[1])*ratio+amt\n",
    "            elif nums.isdigit() == True:\n",
    "                amt = (float(nums)*ratio) + amt\n",
    "            else:\n",
    "                ratio = (1/2)\n",
    "                if '/' in nums:\n",
    "                    amt = (float((nums).split('/')[0])/float((nums).split('/')[1]))*ratio + amt\n",
    "                else:\n",
    "                    amt = (unicodedata.numeric(nums)*ratio) + amt\n",
    "        \n",
    "        if item in x and 'quart' in x and 'butter' not in x:\n",
    "            nums = x.split(' quart')[0]\n",
    "            if 'to' in nums:\n",
    "                nums = nums.split('to ')[1]\n",
    "            if 'plus' in nums:\n",
    "                nums = nums.split('plus ')[1]\n",
    "            if '(' in nums:\n",
    "                nums = nums.split('(')[1]\n",
    "            if ' ' in nums:\n",
    "                ratio = 4\n",
    "                amt = float(nums.split(' ')[0])*ratio+ amt \n",
    "                if '/' in nums.split(' ')[1]:\n",
    "                    amt = (float((nums.split(' ')[1]).split('/')[0])/float((nums.split(' ')[1]).split('/')[1]))*ratio + amt\n",
    "                else:\n",
    "                    amt = unicodedata.numeric(nums.split(' ')[1])*ratio+amt\n",
    "            elif nums.isdigit() == True:\n",
    "                amt = (float(nums))*4 + amt\n",
    "            elif len(nums) == 1:\n",
    "                amt = (unicodedata.numeric(nums))*4 + amt\n",
    "        \n",
    "        if item in x and 'cup' in x and 'butter' not in x:\n",
    "            nums = x.split(' cup')[0]\n",
    "            if 'to' in nums:\n",
    "                nums = nums.split('to ')[1]\n",
    "            if 'plus' in nums:\n",
    "                nums = nums.split('plus ')[1]\n",
    "            if '(' in nums:\n",
    "                nums = nums.split('(')[1]\n",
    "            if 'heaping' in nums:\n",
    "                nums = nums.split(' heaping')[0]\n",
    "            if 'level' in nums:\n",
    "                nums = nums.split(' level')[0]\n",
    "            if 'scant' in nums:\n",
    "                nums = nums.split(' scant')[0]\n",
    "            if ' ' in nums:\n",
    "                amt = float(nums.split(' ')[0])+ amt \n",
    "                if '/' in nums.split(' ')[1]:\n",
    "                    amt = (float((nums.split(' ')[1]).split('/')[0])/float((nums.split(' ')[1]).split('/')[1])) + amt\n",
    "                else:\n",
    "                    amt = unicodedata.numeric(nums.split(' ')[1])+amt\n",
    "            elif nums.isdigit() == True:\n",
    "                amt = (float(nums)) + amt\n",
    "            elif len(nums) == 1:\n",
    "                amt = (unicodedata.numeric(nums)) + amt\n",
    "                \n",
    "        if item in x and 'tablespoon' in x and 'butter' not in x:\n",
    "            nums = x.split(' tablespoon')[0]\n",
    "            if 'to' in nums:\n",
    "                nums = nums.split('to ')[1]\n",
    "            if 'plus' in nums:\n",
    "                nums = nums.split('plus ')[1]\n",
    "            if '(' in nums:\n",
    "                nums = nums.split('(')[1]\n",
    "            if 'with' in nums:\n",
    "                nums = nums.split('with ')[1]\n",
    "            if 'heaping' in nums:\n",
    "                nums = nums.split(' heaping')[0]\n",
    "            if 'level' in nums:\n",
    "                nums = nums.split(' level')[0]\n",
    "            if 'scant' in nums:\n",
    "                nums = nums.split(' scant')[0]\n",
    "            if ' ' in nums:\n",
    "                ratio = (1/16)\n",
    "                amt = float(nums.split(' ')[0])*ratio+ amt \n",
    "                if '/' in nums.split(' ')[1]:\n",
    "                    amt = (float((nums.split(' ')[1]).split('/')[0])/float((nums.split(' ')[1]).split('/')[1]))*ratio + amt\n",
    "                else:\n",
    "                    amt = unicodedata.numeric(nums.split(' ')[1])*ratio+amt\n",
    "            elif nums.isdigit() == True:\n",
    "                ratio = (1/16)\n",
    "                amt = (float(nums)*ratio) + amt\n",
    "            else:\n",
    "                ratio = (1/16)\n",
    "                if '/' in nums:\n",
    "                    amt = (float((nums).split('/')[0])/float((nums).split('/')[1]))*ratio + amt\n",
    "                else:\n",
    "                    amt = (unicodedata.numeric(nums)*ratio) + amt\n",
    "                \n",
    "        if item in x and 'teaspoon' in x and 'butter' not in x:\n",
    "            nums = x.split(' teaspoon')[0]\n",
    "            if 'to' in nums:\n",
    "                nums = nums.split('to ')[1]\n",
    "            if 'plus' in nums:\n",
    "                nums = nums.split('plus ')[1]\n",
    "            if '(' in nums:\n",
    "                nums = nums.split('(')[1]\n",
    "            if 'and' in nums:\n",
    "                nums = nums.split('and ')[1]\n",
    "            if 'heaping' in nums:\n",
    "                nums = nums.split(' heaping')[0]\n",
    "            if 'level' in nums:\n",
    "                nums = nums.split(' level')[0]\n",
    "            if 'scant' in nums:\n",
    "                nums = nums.split(' scant')[0]\n",
    "            if ' ' in nums:\n",
    "                ratio = (1/48)\n",
    "                amt = float(nums.split(' ')[0])*ratio+ amt \n",
    "                if '/' in nums.split(' ')[1]:\n",
    "                    amt = (float((nums.split(' ')[1]).split('/')[0])/float((nums.split(' ')[1]).split('/')[1]))*ratio + amt\n",
    "                else:\n",
    "                    amt = unicodedata.numeric(nums.split(' ')[1])*ratio+amt\n",
    "                \n",
    "            elif nums.isdigit() == True:\n",
    "                amt = (float(nums)/48) + amt\n",
    "            else:\n",
    "                ratio = (1/48)\n",
    "                if '/' in nums:\n",
    "                    amt = (float((nums).split('/')[0])/float((nums).split('/')[1]))*ratio + amt\n",
    "                else:\n",
    "                    amt = (unicodedata.numeric(nums)/48) + amt\n",
    "    return(amt)\n",
    "\n",
    "def eggs(ingredient_list):\n",
    "    amt = 0\n",
    "    for x in ingredient_list:\n",
    "#        if 'egg' in x and 'cup' in x:\n",
    "#            nums = x.split(' cup')[0]\n",
    "#            if nums.isdigit is True:\n",
    "#                egg_count = egg_count+float(nums)*5\n",
    "#            if nums.isdigit is False:\n",
    "#                egg_count = unicodedata.numeric(nums)*5 + egg_count\n",
    "#       \n",
    "        if 'egg' in x and 'nog' not in x and 'cup' not in x and 'ounce' not in x:\n",
    "            nums = x.split(' egg')[0]\n",
    "            if 'suggestion:' in nums:\n",
    "                nums = '0'\n",
    "            if 'to' in nums:\n",
    "                nums = nums.split(' to')[0]\n",
    "            if 'fried' in nums:\n",
    "                nums = nums.split(' fried')[0]\n",
    "            if 'hard-boiled' in nums:\n",
    "                nums = nums.split(' hard-boiled')[0]\n",
    "            if 'beaten' in nums:\n",
    "                nums = nums.split(' beaten')[0]\n",
    "            if 'whole' in nums:\n",
    "                nums = nums.split(' whole')[0]\n",
    "            if 'extra' in nums:\n",
    "                nums = nums.split(' extra')[0]\n",
    "            if 'large' in nums:\n",
    "                nums = nums.split(' large')[0]\n",
    "            if 'medium' in nums:\n",
    "                nums = nums.split(' medium')[0]\n",
    "            if 'small' in nums:\n",
    "                nums = nums.split(' small')[0]\n",
    "            if 'wash, ' in nums:\n",
    "                nums = nums.split('wash, ')[1]\n",
    "            if ' ' in nums:\n",
    "                amt = float(nums.split(' ')[0])+ amt \n",
    "                if '/' in nums.split(' ')[1]:\n",
    "                    amt = (float((nums.split(' ')[1]).split('/')[0])/float((nums.split(' ')[1]).split('/')[1])) + amt\n",
    "                else:\n",
    "                    amt = unicodedata.numeric(nums.split(' ')[1])+amt\n",
    "            elif nums.isdigit() == True:\n",
    "                amt = (float(nums)) + amt\n",
    "            elif len(nums) == 1:\n",
    "                amt = (unicodedata.numeric(nums)) + amt\n",
    "            #egg_count = float(nums.split(' ')[0].split(' ')[0])\n",
    "    return(amt)\n"
   ]
  },
  {
   "cell_type": "code",
   "execution_count": null,
   "id": "5209d539",
   "metadata": {},
   "outputs": [],
   "source": [
    "# applying those functions\n",
    "recipes_df['baking_temp'] = recipes_df.instructions.apply(baking_temp)\n",
    "recipes_df['calories'] = recipes_df.nutrients.apply(get_cals)\n",
    "recipes_df['carbs'] = recipes_df.nutrients.apply(get_carbs)\n",
    "recipes_df['chol'] = recipes_df.nutrients.apply(get_chol)\n",
    "recipes_df['fat'] = recipes_df.nutrients.apply(get_fat)\n",
    "recipes_df['fiber'] = recipes_df.nutrients.apply(get_fiber)\n",
    "recipes_df['protein'] = recipes_df.nutrients.apply(get_protein)\n",
    "recipes_df['satfat'] = recipes_df.nutrients.apply(get_satfat)\n",
    "recipes_df['sodium'] = recipes_df.nutrients.apply(get_sodium)\n",
    "recipes_df['sugar'] = recipes_df.nutrients.apply(get_sugar)\n",
    "recipes_df['servings'] = recipes_df.yields.apply(get_servings)\n",
    "#recipes_df['thickness'] = recipes_df.instructions.apply(thickness)\n",
    "recipes_df['num_ingredients'] = recipes_df.ingredients.apply(num_ingredients)\n",
    "recipes_df['num_steps'] = recipes_df.instructions.apply(num_steps)\n",
    "recipes_df['cups_flour'] = recipes_df.ingredients.apply(flour)\n",
    "recipes_df['cups_sugar'] = recipes_df.ingredients.apply(sugar)\n",
    "recipes_df['baking_soda'] = recipes_df.ingredients.apply(bakingsoda)\n",
    "recipes_df['baking_powder'] = recipes_df.ingredients.apply(bakingpowder)\n",
    "recipes_df['salt'] = recipes_df.ingredients.apply(salt)\n",
    "recipes_df['milk'] = recipes_df.ingredients.apply(milk)\n",
    "recipes_df['cream'] = recipes_df.ingredients.apply(cream)\n",
    "recipes_df['buttermilk'] = recipes_df.ingredients.apply(buttermilk)\n",
    "recipes_df['water'] = recipes_df.ingredients.apply(water)\n",
    "recipes_df['sour_cream'] = recipes_df.ingredients.apply(sourcream)\n",
    "recipes_df['butter'] = recipes_df.ingredients.apply(butter)\n",
    "recipes_df['margarine'] = recipes_df.ingredients.apply(margarine)\n",
    "recipes_df['shortening'] = recipes_df.ingredients.apply(shortening)\n",
    "recipes_df['eggs'] = recipes_df.ingredients.apply(eggs)"
   ]
  },
  {
   "cell_type": "markdown",
   "id": "95a372f3",
   "metadata": {},
   "source": [
    "It looks like the food network data was particularly dirty. I'll need to compeletely rewrite the cleaning functions to try and tackle this so for now I'm going to focus on just the all recipe data. On top of this I have no nutrition data for Food Network"
   ]
  },
  {
   "cell_type": "code",
   "execution_count": null,
   "id": "e1f5d7e2",
   "metadata": {},
   "outputs": [],
   "source": [
    "allrecipes_df = recipes_df[recipes_df.site_name == 'Allrecipes']#.reset_index()"
   ]
  },
  {
   "cell_type": "code",
   "execution_count": null,
   "id": "7011a795",
   "metadata": {},
   "outputs": [],
   "source": [
    "limited_mask = ['category', 'servings','baking_temp','prep_time','cook_time',\n",
    "       'num_ingredients', 'num_steps', 'cups_flour', 'cups_sugar',\n",
    "       'baking_soda', 'baking_powder', 'salt', 'milk', 'buttermilk', 'water',\n",
    "       'sour_cream', 'butter', 'margarine', 'shortening', 'eggs',\n",
    "        'calories','sugar','carbs','chol','fat','fiber','protein','satfat','sodium']\n",
    "allrec_df = allrecipes_df[limited_mask]"
   ]
  },
  {
   "cell_type": "code",
   "execution_count": null,
   "id": "b71a8aaf",
   "metadata": {},
   "outputs": [],
   "source": [
    "more_limited_mask = ['url','category', 'servings','baking_temp','prep_time','cook_time',\n",
    "       'num_ingredients', 'num_steps', 'cups_flour', 'cups_sugar',\n",
    "       'baking_soda', 'baking_powder', 'salt', 'milk', 'buttermilk', 'water',\n",
    "       'sour_cream', 'butter', 'margarine', 'shortening', 'eggs',\n",
    "        'calories']\n",
    "allrec_df = allrecipes_df[more_limited_mask]"
   ]
  },
  {
   "cell_type": "code",
   "execution_count": null,
   "id": "6dd1015e",
   "metadata": {},
   "outputs": [],
   "source": [
    "len(more_limited_mask)"
   ]
  },
  {
   "cell_type": "code",
   "execution_count": null,
   "id": "1d9a5627",
   "metadata": {},
   "outputs": [],
   "source": [
    "sns.pairplot(allrec_df,hue = 'category')"
   ]
  },
  {
   "cell_type": "markdown",
   "id": "567f15ac",
   "metadata": {},
   "source": [
    "# Begin Modeling Phase"
   ]
  },
  {
   "cell_type": "code",
   "execution_count": null,
   "id": "cc873854",
   "metadata": {},
   "outputs": [],
   "source": [
    "from sklearn.model_selection import train_test_split\n",
    "from sklearn.linear_model import LogisticRegression\n",
    "from sklearn import tree\n",
    "from sklearn.metrics import precision_score\n",
    "from sklearn.metrics import recall_score\n",
    "from sklearn.metrics import f1_score\n",
    "from sklearn.metrics import plot_roc_curve\n",
    "from sklearn import metrics"
   ]
  },
  {
   "cell_type": "code",
   "execution_count": null,
   "id": "b81a83ae",
   "metadata": {},
   "outputs": [],
   "source": [
    "def binary_scone_biscuit(x):\n",
    "    if x == 'Biscuit':\n",
    "        return(0)\n",
    "    if x == 'Scones':\n",
    "        return(1)"
   ]
  },
  {
   "cell_type": "code",
   "execution_count": null,
   "id": "3b30a4af",
   "metadata": {},
   "outputs": [],
   "source": [
    "allrec_df['binary_cat'] = allrec_df.category.apply(binary_scone_biscuit)"
   ]
  },
  {
   "cell_type": "markdown",
   "id": "fdb72deb",
   "metadata": {},
   "source": [
    "## Splitting Data"
   ]
  },
  {
   "cell_type": "code",
   "execution_count": null,
   "id": "57a974ee",
   "metadata": {},
   "outputs": [],
   "source": [
    "X = allrec_df.drop(columns = ['category','binary_cat','url'])\n",
    "y = allrec_df[['binary_cat','url']]\n",
    "\n",
    "X_train_val, X_test, y_train_va11, y_test1 = train_test_split(X, y, test_size=0.2, random_state=42)\n",
    "X_train, X_val, y_train1, y_val1 = train_test_split(X_train_val, y_train_val1, test_size=0.25, random_state=42)\n",
    "\n",
    "y_train_val = y_train_val1.binary_cat\n",
    "y_test = y_test1.binary_cat\n",
    "y_train = y_train1.binary_cat\n",
    "y_val = y_val1.binary_cat"
   ]
  },
  {
   "cell_type": "markdown",
   "id": "15e1b989",
   "metadata": {},
   "source": [
    "### Scalling Data"
   ]
  },
  {
   "cell_type": "code",
   "execution_count": null,
   "id": "a36dc848",
   "metadata": {},
   "outputs": [],
   "source": [
    "from sklearn import preprocessing\n",
    "\n",
    "scaler = preprocessing.StandardScaler().fit(X_train)\n",
    "X_train_scaled = pd.DataFrame(scaler.transform(X_train), columns = X_train.columns)\n",
    "X_val_scaled = pd.DataFrame(scaler.transform(X_val), columns = X_val.columns)\n",
    "X_test_scaled = pd.DataFrame(scaler.transform(X_test), columns = X_test.columns)\n",
    "\n"
   ]
  },
  {
   "cell_type": "markdown",
   "id": "dba3bebe",
   "metadata": {},
   "source": [
    "## Decision Tree"
   ]
  },
  {
   "cell_type": "markdown",
   "id": "e6523053",
   "metadata": {},
   "source": [
    "Just out of curiosity I want to see what a Decision Tree on the training data would be"
   ]
  },
  {
   "cell_type": "code",
   "execution_count": null,
   "id": "f9521f8e",
   "metadata": {},
   "outputs": [],
   "source": [
    "dt = tree.DecisionTreeClassifier(max_depth = 3)\n",
    "dt.fit(X_train,y_train)"
   ]
  },
  {
   "cell_type": "code",
   "execution_count": null,
   "id": "d6894d35",
   "metadata": {},
   "outputs": [],
   "source": [
    "#tree.plot_tree(dt,fontsize = 10)\n",
    "import graphviz \n",
    "dot_data = tree.export_graphviz(dt, out_file=None) \n",
    "graph = graphviz.Source(dot_data) \n",
    "graph.render(\"decision_tree\") "
   ]
  },
  {
   "cell_type": "code",
   "execution_count": null,
   "id": "14da8cde",
   "metadata": {},
   "outputs": [],
   "source": [
    "dot_data = tree.export_graphviz(dt, out_file=None, \n",
    "                   feature_names=list(X_train.columns),  \n",
    "                   class_names=['Scones','Biscuit'],  \n",
    "                   filled=True, rounded=True,  \n",
    "                   special_characters=True)  \n",
    "graph = graphviz.Source(dot_data)  \n",
    "graph "
   ]
  },
  {
   "cell_type": "markdown",
   "id": "a8e0d420",
   "metadata": {},
   "source": [
    "## Logistic Regression"
   ]
  },
  {
   "cell_type": "code",
   "execution_count": null,
   "id": "19c9e38c",
   "metadata": {},
   "outputs": [],
   "source": [
    "logreg = LogisticRegression(random_state=0)"
   ]
  },
  {
   "cell_type": "code",
   "execution_count": null,
   "id": "b20a3604",
   "metadata": {},
   "outputs": [],
   "source": [
    "logreg.fit(X_train_scaled,y_train)"
   ]
  },
  {
   "cell_type": "code",
   "execution_count": null,
   "id": "4bad557f",
   "metadata": {},
   "outputs": [],
   "source": [
    "logreg.score(X_train_scaled,y_train)"
   ]
  },
  {
   "cell_type": "code",
   "execution_count": null,
   "id": "7d1f991b",
   "metadata": {},
   "outputs": [],
   "source": [
    "logreg.score(X_val_scaled,y_val)"
   ]
  },
  {
   "cell_type": "code",
   "execution_count": null,
   "id": "013a9637",
   "metadata": {},
   "outputs": [],
   "source": [
    "y_val_pred = logreg.predict(X_val_scaled)\n",
    "precision_score(y_val,y_val_pred)"
   ]
  },
  {
   "cell_type": "code",
   "execution_count": null,
   "id": "5ba061b5",
   "metadata": {},
   "outputs": [],
   "source": [
    "y_val_pred = logreg.predict(X_val_scaled)\n",
    "recall_score(y_val,y_val_pred)"
   ]
  },
  {
   "cell_type": "code",
   "execution_count": null,
   "id": "74660a11",
   "metadata": {},
   "outputs": [],
   "source": [
    "plot_roc_curve(logreg,X_train_scaled,y_train)\n",
    "warnings.simplefilter(action='ignore', category=FutureWarning)"
   ]
  },
  {
   "cell_type": "code",
   "execution_count": null,
   "id": "02dd051b",
   "metadata": {},
   "outputs": [],
   "source": [
    "plot_roc_curve(logreg,X_val_scaled,y_val)\n",
    "warnings.simplefilter(action='ignore', category=FutureWarning)\n"
   ]
  },
  {
   "cell_type": "code",
   "execution_count": null,
   "id": "228c6c66",
   "metadata": {},
   "outputs": [],
   "source": [
    "logreg_coeff = pd.DataFrame({'feature_name': logreg.feature_names_in_, \n",
    "                             'model_coefficient': logreg.coef_.transpose().flatten()})\n",
    "logreg_coeff = logreg_coeff.sort_values(by = 'model_coefficient',ascending = False)\n",
    "\n",
    "sns.set_theme(style=\"whitegrid\")\n",
    "ax = sns.barplot(x=\"feature_name\", y=\"model_coefficient\", data=logreg_coeff)\n",
    "ax.set_xticklabels(ax.get_xticklabels(),rotation = 90)"
   ]
  },
  {
   "cell_type": "markdown",
   "id": "3811bde0",
   "metadata": {},
   "source": [
    "## Kernel Nearest Neighbor"
   ]
  },
  {
   "cell_type": "code",
   "execution_count": null,
   "id": "bf0093d4",
   "metadata": {},
   "outputs": [],
   "source": [
    "from sklearn.neighbors import KNeighborsClassifier"
   ]
  },
  {
   "cell_type": "code",
   "execution_count": null,
   "id": "e0a7160f",
   "metadata": {},
   "outputs": [],
   "source": [
    "list(range(1,15))"
   ]
  },
  {
   "cell_type": "code",
   "execution_count": null,
   "id": "f284056f",
   "metadata": {},
   "outputs": [],
   "source": [
    "n_neighbors = list(range(1,20))\n",
    "scores =[]\n",
    "for x in n_neighbors:\n",
    "    neigh = KNeighborsClassifier(n_neighbors = x)\n",
    "    neigh.fit(X_train_scaled,y_train)\n",
    "    scores.append(neigh.score(X_val_scaled,y_val))\n",
    "plt.plot(n_neighbors,scores)\n",
    "plt.xlabel('number of neighbors')\n",
    "plt.ylabel('validation score')"
   ]
  },
  {
   "cell_type": "code",
   "execution_count": null,
   "id": "585957ca",
   "metadata": {},
   "outputs": [],
   "source": [
    "neigh = KNeighborsClassifier(n_neighbors = 3)\n",
    "neigh.fit(X_train_scaled,y_train)"
   ]
  },
  {
   "cell_type": "code",
   "execution_count": null,
   "id": "47a7971d",
   "metadata": {},
   "outputs": [],
   "source": [
    "neigh.score(X_train_scaled,y_train)"
   ]
  },
  {
   "cell_type": "code",
   "execution_count": null,
   "id": "f1a7e899",
   "metadata": {},
   "outputs": [],
   "source": [
    "neigh.score(X_val_scaled,y_val)"
   ]
  },
  {
   "cell_type": "code",
   "execution_count": null,
   "id": "c7b8d5d0",
   "metadata": {},
   "outputs": [],
   "source": [
    "y_val_pred = neigh.predict(X_val_scaled)\n",
    "precision_score(y_val,y_val_pred)"
   ]
  },
  {
   "cell_type": "code",
   "execution_count": null,
   "id": "91e519a4",
   "metadata": {},
   "outputs": [],
   "source": [
    "y_val_pred = neigh.predict(X_val_scaled)\n",
    "recall_score(y_val,y_val_pred)"
   ]
  },
  {
   "cell_type": "code",
   "execution_count": null,
   "id": "b55a5d1e",
   "metadata": {},
   "outputs": [],
   "source": [
    "plot_roc_curve(neigh,X_train_scaled,y_train)"
   ]
  },
  {
   "cell_type": "code",
   "execution_count": null,
   "id": "2b7a7a84",
   "metadata": {},
   "outputs": [],
   "source": [
    "plot_roc_curve(neigh,X_val_scaled,y_val)"
   ]
  },
  {
   "cell_type": "markdown",
   "id": "93b07aed",
   "metadata": {},
   "source": [
    "## Random Forrest"
   ]
  },
  {
   "cell_type": "code",
   "execution_count": null,
   "id": "d53169d0",
   "metadata": {},
   "outputs": [],
   "source": [
    "from sklearn.ensemble import RandomForestClassifier\n",
    "frst = RandomForestClassifier(n_estimators = 100, max_depth=3, random_state=0)\n",
    "\n",
    "frst.fit(X_train_scaled, y_train)"
   ]
  },
  {
   "cell_type": "code",
   "execution_count": null,
   "id": "c37abef3",
   "metadata": {},
   "outputs": [],
   "source": [
    "frst.score(X_train_scaled, y_train)"
   ]
  },
  {
   "cell_type": "code",
   "execution_count": null,
   "id": "3e2af6a4",
   "metadata": {},
   "outputs": [],
   "source": [
    "frst.score(X_val_scaled,y_val)"
   ]
  },
  {
   "cell_type": "code",
   "execution_count": null,
   "id": "b77f531f",
   "metadata": {},
   "outputs": [],
   "source": [
    "y_val_pred = frst.predict(X_val_scaled)\n",
    "precision_score(y_val,y_val_pred)"
   ]
  },
  {
   "cell_type": "code",
   "execution_count": null,
   "id": "3b6901f5",
   "metadata": {},
   "outputs": [],
   "source": [
    "y_val_pred = frst.predict(X_val_scaled)\n",
    "recall_score(y_val,y_val_pred)"
   ]
  },
  {
   "cell_type": "code",
   "execution_count": null,
   "id": "24606490",
   "metadata": {},
   "outputs": [],
   "source": [
    "plot_roc_curve(frst,X_train_scaled,y_train)"
   ]
  },
  {
   "cell_type": "code",
   "execution_count": null,
   "id": "33b3d65c",
   "metadata": {},
   "outputs": [],
   "source": [
    "plot_roc_curve(frst,X_val_scaled,y_val)\n",
    "auc = metrics.roc_auc_score(y_val,y_val_pred)\n",
    "print(auc)\n",
    "#### Not sure why these aren't matcching. I'm more inclined to believe the metrics.roc_auc_score method"
   ]
  },
  {
   "cell_type": "markdown",
   "id": "f8ce33e5",
   "metadata": {},
   "source": [
    "## Plot ROC curves Together"
   ]
  },
  {
   "cell_type": "code",
   "execution_count": null,
   "id": "8e1559c9",
   "metadata": {},
   "outputs": [],
   "source": [
    "plt.figure()\n",
    "fig, ax = plt.subplots() # or \n",
    "fig.patch.set_facecolor('none')\n",
    "fig.patch.set_facecolor('none')\n",
    "\n",
    "models = [\n",
    "{\n",
    "    'label': 'Logistic Regression',\n",
    "    'model': logreg,\n",
    "},\n",
    "{\n",
    "    'label': 'Random Forest',\n",
    "    'model': frst,\n",
    "},\n",
    "{\n",
    "    'label': 'K-Nearest Neighbors',\n",
    "    'model': neigh,\n",
    "}\n",
    "]\n",
    "\n",
    "# Below for loop iterates through your models list\n",
    "for m in models:\n",
    "    model = m['model'] # select the model\n",
    "    #model.fit(X_train_scaled, y_train) # train the model\n",
    "    y_pred=model.predict(X_val_scaled) # predict the test data\n",
    "# Compute False postive rate, and True positive rate\n",
    "    fpr, tpr, thresholds = metrics.roc_curve(y_val, model.predict_proba(X_val_scaled)[:,1])\n",
    "# Calculate Area under the curve to display on the plot\n",
    "    auc = metrics.roc_auc_score(y_val,model.predict(X_val_scaled))\n",
    "# Now, plot the computed values\n",
    "    plt.plot(fpr, tpr, label='%s ROC (area = %0.2f)' % (m['label'], auc))\n",
    "# Custom settings for the plot \n",
    "plt.plot([0, 1], [0, 1],'r--')\n",
    "plt.xlim([0.0, 1.0])\n",
    "plt.ylim([0.0, 1.05])\n",
    "plt.xlabel('Fall Out (False Positive Rate)')\n",
    "plt.ylabel('Recall (True Positive Rate)')\n",
    "plt.title('Receiver Operating Characteristic',fontsize = 15)\n",
    "plt.legend(loc=\"lower right\")\n",
    "plt.show()   # Display\n",
    "fig.savefig('filename.eps', format='eps')"
   ]
  },
  {
   "cell_type": "markdown",
   "id": "3f5cf42b",
   "metadata": {},
   "source": [
    " ## Logistic Regression with Lasso Penalty and Cross Validation"
   ]
  },
  {
   "cell_type": "code",
   "execution_count": null,
   "id": "3e622655",
   "metadata": {},
   "outputs": [],
   "source": [
    "scalercv = preprocessing.StandardScaler().fit(X_train_val)\n",
    "X_train_val_scaled = pd.DataFrame(scalercv.transform(X_train_val), columns = X_train_val.columns)\n",
    "X_test_scaled_cv = pd.DataFrame(scalercv.transform(X_test), columns = X_test.columns)\n"
   ]
  },
  {
   "cell_type": "code",
   "execution_count": null,
   "id": "683c5959",
   "metadata": {},
   "outputs": [],
   "source": [
    "len(scores)"
   ]
  },
  {
   "cell_type": "code",
   "execution_count": null,
   "id": "1aa8b87c",
   "metadata": {},
   "outputs": [],
   "source": [
    "from sklearn.linear_model import LogisticRegressionCV\n",
    "scores = []\n",
    "\n",
    "C = np.logspace(-1.8,3,num = 500)\n",
    "fig, ax = plt.subplots() # or \n",
    "fig.patch.set_facecolor('none')\n",
    "ax.patch.set_facecolor('none')\n",
    "\n",
    "for x in C:\n",
    "    logregcv = LogisticRegressionCV(Cs = [x],cv = 5, random_state = 0,solver = 'liblinear', penalty = 'l1')\n",
    "    logregcv.fit(X_train_val_scaled,y_train_val)\n",
    "    scores.append(logregcv.score(X_train_val_scaled,y_train_val))   \n",
    "    \n",
    "plt.plot(np.log10(C),scores,linewidth = 3)\n",
    "plt.xticks(fontsize = 13)\n",
    "plt.yticks(fontsize = 13)\n",
    "plt.xlabel('Log(C) Regularization Strength', fontsize = 15)\n",
    "plt.ylabel('Accuracy', fontsize = 15)\n",
    "plt.title('CV = 5 Lasso Grid Search', fontsize = 15)\n",
    "fig.savefig('grid_search.pdf', format='eps',bbox_inches = 'tight',pad_inches = 1)"
   ]
  },
  {
   "cell_type": "code",
   "execution_count": null,
   "id": "33ea5a6a",
   "metadata": {},
   "outputs": [],
   "source": [
    "logregcv = LogisticRegressionCV(Cs = [.1],cv = 5, random_state = 0,solver = 'liblinear', penalty = 'l1')\n",
    "logregcv.fit(X_train_val_scaled,y_train_val)"
   ]
  },
  {
   "cell_type": "code",
   "execution_count": null,
   "id": "58687cfe",
   "metadata": {},
   "outputs": [],
   "source": [
    "logreg_coeff = pd.DataFrame({'feature_name': logregcv.feature_names_in_, \n",
    "                             'model_coefficient': logregcv.coef_.transpose().flatten()})\n",
    "logreg_coeff = logreg_coeff.sort_values(by = 'model_coefficient',ascending = False)\n",
    "\n",
    "sns.set_theme(style=\"whitegrid\")\n",
    "ax = sns.barplot(x=\"feature_name\", y=\"model_coefficient\", data=logreg_coeff)\n",
    "ax.set_xticklabels(ax.get_xticklabels(),rotation = 90)"
   ]
  },
  {
   "cell_type": "code",
   "execution_count": null,
   "id": "59a16910",
   "metadata": {},
   "outputs": [],
   "source": [
    "logregcv.score(X_train_val_scaled,y_train_val)"
   ]
  },
  {
   "cell_type": "code",
   "execution_count": null,
   "id": "03ac2749",
   "metadata": {},
   "outputs": [],
   "source": [
    "plot_roc_curve(logregcv,X_train_val_scaled,y_train_val)"
   ]
  },
  {
   "cell_type": "code",
   "execution_count": null,
   "id": "a1b160b3",
   "metadata": {},
   "outputs": [],
   "source": [
    "plot_roc_curve(logregcv,X_train_scaled,y_train)"
   ]
  },
  {
   "cell_type": "markdown",
   "id": "bfdcaa03",
   "metadata": {},
   "source": [
    "#### Redoing Pairplots"
   ]
  },
  {
   "cell_type": "code",
   "execution_count": null,
   "id": "d5ce1133",
   "metadata": {},
   "outputs": [],
   "source": [
    "new_masky = ['category','num_ingredients','cups_sugar','cups_flour',\n",
    "            'eggs','baking_soda',\n",
    "            'baking_temp','water','milk','buttermilk','salt']\n",
    "allrec_df2 = allrecipes_df[new_masky]\n",
    "sns.pairplot(allrec_df2,hue ='category' )"
   ]
  },
  {
   "cell_type": "markdown",
   "id": "e17a1365",
   "metadata": {},
   "source": [
    "## Revisit Logistic Regression with Smaller Feature set"
   ]
  },
  {
   "cell_type": "code",
   "execution_count": null,
   "id": "46f3f0b4",
   "metadata": {},
   "outputs": [],
   "source": [
    "new_mask = ['num_ingredients','cups_sugar','cups_flour',\n",
    "            'eggs','baking_soda',\n",
    "            'baking_temp','water','milk','buttermilk','salt']\n",
    "\n",
    "\n",
    "X_train_val_scaled_sh = X_train_val_scaled[new_mask]\n",
    "X_train_scaled_sh = X_train_scaled[new_mask]\n",
    "X_val_scaled_sh = X_val_scaled[new_mask]\n",
    "X_test_scaled_sh = X_test_scaled[new_mask]"
   ]
  },
  {
   "cell_type": "code",
   "execution_count": null,
   "id": "c8d727e4",
   "metadata": {},
   "outputs": [],
   "source": [
    "logreg.fit(X_train_scaled_sh,y_train)\n",
    "logreg.score(X_train_scaled_sh,y_train)"
   ]
  },
  {
   "cell_type": "code",
   "execution_count": null,
   "id": "4f0069c0",
   "metadata": {},
   "outputs": [],
   "source": [
    "logreg.score(X_val_scaled_sh,y_val)"
   ]
  },
  {
   "cell_type": "code",
   "execution_count": null,
   "id": "69f103e4",
   "metadata": {},
   "outputs": [],
   "source": [
    "logreg_coeff.model_coefficient"
   ]
  },
  {
   "cell_type": "code",
   "execution_count": null,
   "id": "f5af89cb",
   "metadata": {},
   "outputs": [],
   "source": [
    "logreg_coeff = pd.DataFrame({'feature_name': logreg.feature_names_in_, \n",
    "                             'model_coefficient': logreg.coef_.transpose().flatten()})\n",
    "logreg_coeff = logreg_coeff.sort_values(by = 'model_coefficient',ascending = False)\n",
    "fig, ax = plt.subplots() # or \n",
    "fig.patch.set_facecolor('none')\n",
    "ax.patch.set_facecolor('none')\n",
    "\n",
    "\n",
    "sns.set_theme(style=\"whitegrid\")\n",
    "ax = sns.barplot(x=\"feature_name\", y=\"model_coefficient\", data=logreg_coeff,palette = 'coolwarm')\n",
    "ax.set_title('Positive = Scones', fontsize = 15)\n",
    "ax.set_xticklabels(ax.get_xticklabels(),rotation = 45,horizontalalignment = ('right'), fontsize = 14)\n",
    "ax.set_xlabel('Feature Names', fontsize = 15)\n",
    "ax.set_ylabel('Model Coefficients', fontsize = 15)\n",
    "#ax.set_title('Positive = Scones')\n",
    "fig.savefig('lasso_coefficients.pdf', format='eps',bbox_inches = 'tight')"
   ]
  },
  {
   "cell_type": "code",
   "execution_count": null,
   "id": "adf865eb",
   "metadata": {},
   "outputs": [],
   "source": [
    "plot_roc_curve(logreg,X_train_scaled_sh,y_train)"
   ]
  },
  {
   "cell_type": "code",
   "execution_count": null,
   "id": "1d25ea47",
   "metadata": {},
   "outputs": [],
   "source": [
    "plot_roc_curve(logreg,X_val_scaled_sh,y_val)"
   ]
  },
  {
   "cell_type": "markdown",
   "id": "395ee19b",
   "metadata": {},
   "source": [
    "## Revisit Random Forrest"
   ]
  },
  {
   "cell_type": "code",
   "execution_count": null,
   "id": "251cd453",
   "metadata": {},
   "outputs": [],
   "source": [
    "frst = RandomForestClassifier(n_estimators = 100, max_depth=3, random_state=0)\n",
    "frst.fit(X_train_scaled_sh, y_train)"
   ]
  },
  {
   "cell_type": "code",
   "execution_count": null,
   "id": "68b22063",
   "metadata": {},
   "outputs": [],
   "source": [
    "frst.score(X_train_scaled_sh, y_train)"
   ]
  },
  {
   "cell_type": "code",
   "execution_count": null,
   "id": "bb326c01",
   "metadata": {},
   "outputs": [],
   "source": [
    "frst.score(X_val_scaled_sh, y_val)"
   ]
  },
  {
   "cell_type": "code",
   "execution_count": null,
   "id": "849c4e92",
   "metadata": {},
   "outputs": [],
   "source": [
    "plot_roc_curve(frst,X_train_scaled_sh,y_train)"
   ]
  },
  {
   "cell_type": "code",
   "execution_count": null,
   "id": "a08cb8c2",
   "metadata": {},
   "outputs": [],
   "source": [
    "plot_roc_curve(frst,X_val_scaled_sh,y_val)"
   ]
  },
  {
   "cell_type": "markdown",
   "id": "50f471c4",
   "metadata": {},
   "source": [
    "## Revist KNN"
   ]
  },
  {
   "cell_type": "code",
   "execution_count": null,
   "id": "218739a8",
   "metadata": {},
   "outputs": [],
   "source": [
    "n_neighbors = list(range(1,20))\n",
    "scores =[]\n",
    "for x in n_neighbors:\n",
    "    neigh = KNeighborsClassifier(n_neighbors = x)\n",
    "    neigh.fit(X_train_scaled_sh,y_train)\n",
    "    scores.append(neigh.score(X_val_scaled_sh,y_val))\n",
    "plt.plot(n_neighbors,scores)\n",
    "plt.xlabel('number of neighbors')\n",
    "plt.ylabel('validation score')"
   ]
  },
  {
   "cell_type": "code",
   "execution_count": null,
   "id": "119618f8",
   "metadata": {},
   "outputs": [],
   "source": [
    "neigh = KNeighborsClassifier(n_neighbors = 8)\n",
    "neigh.fit(X_train_scaled_sh,y_train)"
   ]
  },
  {
   "cell_type": "code",
   "execution_count": null,
   "id": "394db9d5",
   "metadata": {},
   "outputs": [],
   "source": [
    "neigh.score(X_train_scaled_sh,y_train)"
   ]
  },
  {
   "cell_type": "code",
   "execution_count": null,
   "id": "412cc627",
   "metadata": {},
   "outputs": [],
   "source": [
    "neigh.score(X_val_scaled_sh,y_val)"
   ]
  },
  {
   "cell_type": "code",
   "execution_count": null,
   "id": "651fef24",
   "metadata": {},
   "outputs": [],
   "source": [
    "plot_roc_curve(neigh,X_train_scaled_sh,y_train)"
   ]
  },
  {
   "cell_type": "code",
   "execution_count": null,
   "id": "1076bb36",
   "metadata": {},
   "outputs": [],
   "source": [
    "plot_roc_curve(neigh,X_val_scaled_sh,y_val)"
   ]
  },
  {
   "cell_type": "markdown",
   "id": "136cadaf",
   "metadata": {},
   "source": [
    "## Ensembling"
   ]
  },
  {
   "cell_type": "code",
   "execution_count": null,
   "id": "c2582728",
   "metadata": {},
   "outputs": [],
   "source": [
    "#### Lots of code in this section is adapted from Metis course videos"
   ]
  },
  {
   "cell_type": "code",
   "execution_count": null,
   "id": "d72e674a",
   "metadata": {},
   "outputs": [],
   "source": [
    "model_list = [('knn',neigh),\n",
    "              ('forest',frst),\n",
    "              ('log_reg',logreg)]\n",
    "\n",
    "for model in model_list:\n",
    "    curr_name,curr_model = model\n",
    "    curr_model.fit(X_train_scaled_sh,y_train)\n",
    "    curr_score = curr_model.score(X_train_scaled_sh,y_train)\n",
    "    print(f'{curr_name} score: {curr_score}')"
   ]
  },
  {
   "cell_type": "code",
   "execution_count": null,
   "id": "9ea306ee",
   "metadata": {},
   "outputs": [],
   "source": [
    "model_list = [('knn',neigh),\n",
    "              ('forest',frst),\n",
    "              ('log_reg',logreg)]\n",
    "\n",
    "for model in model_list:\n",
    "    curr_name,curr_model = model\n",
    "    curr_model.fit(X_train_scaled_sh,y_train)\n",
    "    curr_score = curr_model.score(X_val_scaled_sh,y_val)\n",
    "    print(f'{curr_name} score: {curr_score}')"
   ]
  },
  {
   "cell_type": "code",
   "execution_count": null,
   "id": "d71a438d",
   "metadata": {},
   "outputs": [],
   "source": [
    "from sklearn.ensemble import VotingClassifier\n",
    "vc = VotingClassifier(estimators=model_list,\n",
    "                      voting = 'hard',\n",
    "                      weights = [1,1,1])\n",
    "vc.fit(X_train_scaled_sh,y_train)\n",
    "vc.score(X_val_scaled_sh,y_val)\n",
    "\n"
   ]
  },
  {
   "cell_type": "code",
   "execution_count": null,
   "id": "da232c04",
   "metadata": {},
   "outputs": [],
   "source": [
    "vc.score(X_train_scaled_sh,y_train)"
   ]
  },
  {
   "cell_type": "code",
   "execution_count": null,
   "id": "fe5f5eb7",
   "metadata": {},
   "outputs": [],
   "source": [
    "y_val_pred = vc.predict(X_val_scaled_sh)"
   ]
  },
  {
   "cell_type": "markdown",
   "id": "4a64b946",
   "metadata": {},
   "source": [
    "## See what values are wrong"
   ]
  },
  {
   "cell_type": "code",
   "execution_count": null,
   "id": "e4e89953",
   "metadata": {},
   "outputs": [],
   "source": [
    "### I want to see which values its getting wrong\n",
    "results = pd.DataFrame(y_val-y_val_pred).sort_values(by = 'binary_cat')   "
   ]
  },
  {
   "cell_type": "code",
   "execution_count": null,
   "id": "224599da",
   "metadata": {},
   "outputs": [],
   "source": [
    "misclassified_biscuits = y_val1[y_val1.index.isin(results[results.binary_cat == -1].index.tolist())]\n",
    "misclassified_scones = y_val1[y_val1.index.isin(results[results.binary_cat == 1].index.tolist())]"
   ]
  },
  {
   "cell_type": "code",
   "execution_count": null,
   "id": "61525249",
   "metadata": {},
   "outputs": [],
   "source": [
    "misclassified_biscuits"
   ]
  },
  {
   "cell_type": "code",
   "execution_count": null,
   "id": "3de2764e",
   "metadata": {},
   "outputs": [],
   "source": [
    "misclassified_scones"
   ]
  },
  {
   "cell_type": "markdown",
   "id": "5c950bdd",
   "metadata": {},
   "source": [
    "## Run it on the test set"
   ]
  },
  {
   "cell_type": "code",
   "execution_count": null,
   "id": "2f3410eb",
   "metadata": {},
   "outputs": [],
   "source": [
    "vc.score(X_test_scaled_sh,y_test)\n"
   ]
  },
  {
   "cell_type": "code",
   "execution_count": null,
   "id": "f3fc7c13",
   "metadata": {},
   "outputs": [],
   "source": [
    "neigh.score(X_test_scaled_sh,y_test)\n"
   ]
  },
  {
   "cell_type": "code",
   "execution_count": null,
   "id": "53a684f1",
   "metadata": {},
   "outputs": [],
   "source": [
    "logreg.score(X_test_scaled_sh,y_test)"
   ]
  },
  {
   "cell_type": "code",
   "execution_count": null,
   "id": "d8a7c048",
   "metadata": {},
   "outputs": [],
   "source": [
    "frst.score(X_test_scaled_sh,y_test)"
   ]
  },
  {
   "cell_type": "code",
   "execution_count": null,
   "id": "4e619378",
   "metadata": {},
   "outputs": [],
   "source": [
    "from sklearn.metrics import confusion_matrix\n",
    "confusion_matrix(y_test, vc.predict(X_test_scaled_sh))"
   ]
  },
  {
   "cell_type": "code",
   "execution_count": null,
   "id": "eabb83c8",
   "metadata": {},
   "outputs": [],
   "source": [
    "y_test_pred = vc.predict(X_test_scaled_sh)"
   ]
  },
  {
   "cell_type": "code",
   "execution_count": null,
   "id": "cd7956c2",
   "metadata": {},
   "outputs": [],
   "source": [
    "results = pd.DataFrame(y_test-y_test_pred).sort_values(by = 'binary_cat')   \n",
    "misclassified_biscuits = y_test1[y_test1.index.isin(results[results.binary_cat == -1].index.tolist())]\n",
    "misclassified_scones = y_test1[y_test1.index.isin(results[results.binary_cat == 1].index.tolist())]"
   ]
  },
  {
   "cell_type": "code",
   "execution_count": null,
   "id": "c490ecb1",
   "metadata": {},
   "outputs": [],
   "source": [
    "misclassified_biscuits"
   ]
  },
  {
   "cell_type": "code",
   "execution_count": null,
   "id": "e4d62f95",
   "metadata": {},
   "outputs": [],
   "source": [
    "misclassified_scones"
   ]
  }
 ],
 "metadata": {
  "kernelspec": {
   "display_name": "Python [conda env:metis] *",
   "language": "python",
   "name": "conda-env-metis-py"
  },
  "language_info": {
   "codemirror_mode": {
    "name": "ipython",
    "version": 3
   },
   "file_extension": ".py",
   "mimetype": "text/x-python",
   "name": "python",
   "nbconvert_exporter": "python",
   "pygments_lexer": "ipython3",
   "version": "3.9.9"
  }
 },
 "nbformat": 4,
 "nbformat_minor": 5
}
